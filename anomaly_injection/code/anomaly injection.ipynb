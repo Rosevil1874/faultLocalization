{
 "cells": [
  {
   "cell_type": "code",
   "execution_count": 17,
   "metadata": {},
   "outputs": [],
   "source": [
    "import numpy as np\n",
    "import pandas as pd\n",
    "import random\n",
    "import os"
   ]
  },
  {
   "cell_type": "code",
   "execution_count": 2,
   "metadata": {},
   "outputs": [],
   "source": [
    "# 删除KPI_new的第一周数据\n",
    "# path = '../data/KPI_new.csv'\n",
    "# o = open(path, 'rb')\n",
    "# df = pd.read_csv(o)\n",
    "# df = df[2016:]\n",
    "# df.info()\n",
    "# # csvFile = open('../data/KPI_week2.csv', 'w')\n",
    "# df.to_csv( '../data/KPI_week2.csv', index=None)"
   ]
  },
  {
   "cell_type": "code",
   "execution_count": 3,
   "metadata": {},
   "outputs": [],
   "source": [
    "# 取出5种属性的所有属性值\n",
    "def find_total_attrs(path):\n",
    "\tattrs = os.listdir(path)\n",
    "\ttotal_attrs = []\n",
    "\tfor attr in attrs:\n",
    "\t\tvals = os.listdir(path + attr)\n",
    "\t\tvals= [ x.split('=')[1].split('.')[0] for x in vals ]\n",
    "\t\tif 'unknown' in vals:\n",
    "\t\t\tvals.remove('unknown')\n",
    "\t\ttotal_attrs.append(vals)\n",
    "\t# print(total_attrs)\n",
    "\treturn total_attrs\n",
    "\n",
    "\n",
    "# 一共5层，每层1~5种root cause,共25种\n",
    "def find_root_causes(total_attrs):\n",
    "\tlayers, kinds = 5, 5\n",
    "\troot_causes = []\n",
    "\tfor i in range(layers):\n",
    "\t\tlayer_vals = []\n",
    "\t\tfor j in range(kinds):\n",
    "\t\t\tvals = []\n",
    "\t\t\t# 从5个属性里随机选择 i 个(第一层1个，第二层2个...)\n",
    "\t\t\trandom_nums = random.sample([x for x in range(5)], i + 1)\t\n",
    "\t\t\tfor k in range(i + 1):\n",
    "\t\t\t\tvals.append( random.sample(total_attrs[random_nums[k]], 1)[0] )\t\n",
    "\t\t\tlayer_vals.append(vals)\n",
    "\t\t\ttemp = layer_vals[:]\t\t# 深拷贝\n",
    "\t\t\troot_causes.append(temp)\n",
    "\treturn root_causes\n"
   ]
  },
  {
   "cell_type": "markdown",
   "metadata": {},
   "source": [
    "## 随机找出25种根因"
   ]
  },
  {
   "cell_type": "code",
   "execution_count": 4,
   "metadata": {
    "scrolled": true
   },
   "outputs": [
    {
     "name": "stdout",
     "output_type": "stream",
     "text": [
      "[['l2']]\n",
      "[['l2'], ['i26']]\n",
      "[['l2'], ['i26'], ['i65']]\n",
      "[['l2'], ['i26'], ['i65'], ['e05']]\n",
      "[['l2'], ['i26'], ['i65'], ['e05'], ['l1']]\n",
      "[['i119', 'p18']]\n",
      "[['i119', 'p18'], ['c6', 'l4']]\n",
      "[['i119', 'p18'], ['c6', 'l4'], ['i101', 'c7']]\n",
      "[['i119', 'p18'], ['c6', 'l4'], ['i101', 'c7'], ['l3', 'e11']]\n",
      "[['i119', 'p18'], ['c6', 'l4'], ['i101', 'c7'], ['l3', 'e11'], ['e01', 'p12']]\n",
      "[['i79', 'l4', 'e11']]\n",
      "[['i79', 'l4', 'e11'], ['l4', 'c5', 'i62']]\n",
      "[['i79', 'l4', 'e11'], ['l4', 'c5', 'i62'], ['p19', 'c1', 'i58']]\n",
      "[['i79', 'l4', 'e11'], ['l4', 'c5', 'i62'], ['p19', 'c1', 'i58'], ['i31', 'e04', 'c7']]\n",
      "[['i79', 'l4', 'e11'], ['l4', 'c5', 'i62'], ['p19', 'c1', 'i58'], ['i31', 'e04', 'c7'], ['c7', 'l3', 'p33']]\n",
      "[['c6', 'l3', 'e04', 'p26']]\n",
      "[['c6', 'l3', 'e04', 'p26'], ['c3', 'p24', 'i61', 'l1']]\n",
      "[['c6', 'l3', 'e04', 'p26'], ['c3', 'p24', 'i61', 'l1'], ['p07', 'l2', 'c8', 'e07']]\n",
      "[['c6', 'l3', 'e04', 'p26'], ['c3', 'p24', 'i61', 'l1'], ['p07', 'l2', 'c8', 'e07'], ['i70', 'p12', 'c1', 'e12']]\n",
      "[['c6', 'l3', 'e04', 'p26'], ['c3', 'p24', 'i61', 'l1'], ['p07', 'l2', 'c8', 'e07'], ['i70', 'p12', 'c1', 'e12'], ['c6', 'e03', 'l1', 'i47']]\n",
      "[['e04', 'l3', 'c2', 'p05', 'i27']]\n",
      "[['e04', 'l3', 'c2', 'p05', 'i27'], ['e12', 'p25', 'l3', 'i128', 'c4']]\n",
      "[['e04', 'l3', 'c2', 'p05', 'i27'], ['e12', 'p25', 'l3', 'i128', 'c4'], ['l1', 'c3', 'e08', 'p31', 'i67']]\n",
      "[['e04', 'l3', 'c2', 'p05', 'i27'], ['e12', 'p25', 'l3', 'i128', 'c4'], ['l1', 'c3', 'e08', 'p31', 'i67'], ['i45', 'p25', 'l3', 'e10', 'c4']]\n",
      "[['e04', 'l3', 'c2', 'p05', 'i27'], ['e12', 'p25', 'l3', 'i128', 'c4'], ['l1', 'c3', 'e08', 'p31', 'i67'], ['i45', 'p25', 'l3', 'e10', 'c4'], ['e11', 'c8', 'l2', 'i18', 'p16']]\n"
     ]
    }
   ],
   "source": [
    "total_attrs = find_total_attrs('../data/result/')\n",
    "root_causes = find_root_causes(total_attrs)\n",
    "np.save('../data/root_causes.npy', root_causes)\n",
    "\n",
    "for root_cause in root_causes:\n",
    "\tprint(root_cause)"
   ]
  },
  {
   "cell_type": "markdown",
   "metadata": {},
   "source": [
    "## 随机找出25个timestamp注入异常"
   ]
  },
  {
   "cell_type": "code",
   "execution_count": 5,
   "metadata": {},
   "outputs": [],
   "source": [
    "# 计算异常\n",
    "def compute_anomaly(path):\n",
    "    o = open(path, 'rb')\n",
    "    df = pd.read_csv(o)\n",
    "    length = len(df)\n",
    "\n",
    "    # 随机选取一个时间戳(为方便计算不选头尾处时间戳)\n",
    "    rand_idx = random.randint(150, length - 150)\n",
    "    timestamp = df.loc[rand_idx][0]\t\t\t\t\t\t# 随机选择的timestamp\n",
    "    temp_df = df[rand_idx - 144 : rand_idx + 144]\t\t# 时间间隔为5分钟，共14天数据，选取一天的数据\n",
    "    kpi = temp_df['KPI'].as_matrix()\n",
    "    kpi = [float(i) for i in kpi]\n",
    "    # print(kpi)\n",
    "    mean = np.mean(kpi)\n",
    "    std = np.std(kpi)\n",
    "    total_anomaly = int(mean + 5*std)\t\t\t\t\t# 此timestamp上的总KPI异常\n",
    "    # print(total_anomaly)\n",
    "    return timestamp, total_anomaly\n",
    "\n",
    "\n",
    "# 分发异常\n",
    "def distribute_anomaly(root_cause, path, root_cause_dict):\n",
    "    timestamp, total_anomaly = compute_anomaly(path)\n",
    "#     print(root_cause, timestamp)\n",
    "    root_cause_dict[timestamp] = root_cause\n",
    "    path2 = '../data/origin/' + str(timestamp) + '.csv'\n",
    "    path3 = '../data/anomaly/' + str(timestamp) + '.csv'\n",
    "    locs = []           # 后代叶子元素的索引\n",
    "    o = open(path2, 'rb')\n",
    "    df = pd.read_csv(o, names  = ['i', 'e', 'c', 'p', 'l', 'kpi'])\n",
    "    for x in root_cause:\n",
    "        for idx in df.index:\n",
    "            i, e, c, p, l = df.loc[idx]['i'], df.loc[idx]['e'], df.loc[idx]['c'], df.loc[idx]['p'], df.loc[idx]['l']\n",
    "            if i in x or e in x or c in x or p in x or l in x:\n",
    "                locs.append(idx)\n",
    "\n",
    "    # 若此时间戳不含此属性值，则重新找一个时间戳\n",
    "    if len(locs) == 0:\n",
    "        distribute_anomaly(root_cause, path, root_cause_dict)\n",
    "        return\n",
    "\n",
    "#     print(locs)\n",
    "    anomaly = int(total_anomaly / len(locs))\n",
    "    df_out = pd.DataFrame(columns = ['i', 'e', 'c', 'p', 'l', 'kpi'])\n",
    "    for idx in locs:\n",
    "        i, e, c, p, l = df.loc[idx]['i'], df.loc[idx]['e'], df.loc[idx]['c'], df.loc[idx]['p'], df.loc[idx]['l']\n",
    "#                 print(i, e, c, p, l)\n",
    "        df_out.loc[0] = {'i':i, 'e':e, 'c':c, 'p':p, 'l':l, 'kpi':df.loc[idx]['kpi'] + anomaly}\n",
    "        df = pd.concat([df[:idx], df_out, df[idx+1:]], ignore_index=True)\n",
    "    csvfile = open(path3, 'w')\n",
    "    df.to_csv(path3, header=None, index=None)"
   ]
  },
  {
   "cell_type": "code",
   "execution_count": 6,
   "metadata": {},
   "outputs": [
    {
     "name": "stdout",
     "output_type": "stream",
     "text": [
      "[['l2']] 1536835800000\n",
      "[['l2'], ['i26']] 1536666300000\n",
      "[['l2'], ['i26'], ['i65']] 1536823500000\n",
      "[['l2'], ['i26'], ['i65'], ['e05']] 1536501600000\n",
      "[['l2'], ['i26'], ['i65'], ['e05'], ['l1']] 1536794100000\n",
      "[['i119', 'p18']] 1536624900000\n",
      "[['i119', 'p18'], ['c6', 'l4']] 1536592200000\n",
      "[['i119', 'p18'], ['c6', 'l4'], ['i101', 'c7']] 1536749100000\n",
      "[['i119', 'p18'], ['c6', 'l4'], ['i101', 'c7'], ['l3', 'e11']] 1536716700000\n",
      "[['i119', 'p18'], ['c6', 'l4'], ['i101', 'c7'], ['l3', 'e11'], ['e01', 'p12']] 1536435000000\n",
      "[['i79', 'l4', 'e11']] 1536793200000\n",
      "[['i79', 'l4', 'e11'], ['l4', 'c5', 'i62']] 1536670500000\n",
      "[['i79', 'l4', 'e11'], ['l4', 'c5', 'i62'], ['p19', 'c1', 'i58']] 1536617100000\n",
      "[['i79', 'l4', 'e11'], ['l4', 'c5', 'i62'], ['p19', 'c1', 'i58'], ['i31', 'e04', 'c7']] 1536505800000\n",
      "[['i79', 'l4', 'e11'], ['l4', 'c5', 'i62'], ['p19', 'c1', 'i58'], ['i31', 'e04', 'c7'], ['c7', 'l3', 'p33']] 1536507900000\n",
      "[['c6', 'l3', 'e04', 'p26']] 1536423000000\n",
      "[['c6', 'l3', 'e04', 'p26'], ['c3', 'p24', 'i61', 'l1']] 1536398100000\n",
      "[['c6', 'l3', 'e04', 'p26'], ['c3', 'p24', 'i61', 'l1'], ['p07', 'l2', 'c8', 'e07']] 1536729300000\n",
      "[['c6', 'l3', 'e04', 'p26'], ['c3', 'p24', 'i61', 'l1'], ['p07', 'l2', 'c8', 'e07'], ['i70', 'p12', 'c1', 'e12']] 1536673500000\n",
      "[['c6', 'l3', 'e04', 'p26'], ['c3', 'p24', 'i61', 'l1'], ['p07', 'l2', 'c8', 'e07'], ['i70', 'p12', 'c1', 'e12'], ['c6', 'e03', 'l1', 'i47']] 1536793800000\n",
      "[['e04', 'l3', 'c2', 'p05', 'i27']] 1536441900000\n",
      "[['e04', 'l3', 'c2', 'p05', 'i27'], ['e12', 'p25', 'l3', 'i128', 'c4']] 1536853500000\n",
      "[['e04', 'l3', 'c2', 'p05', 'i27'], ['e12', 'p25', 'l3', 'i128', 'c4'], ['l1', 'c3', 'e08', 'p31', 'i67']] 1536413700000\n",
      "[['e04', 'l3', 'c2', 'p05', 'i27'], ['e12', 'p25', 'l3', 'i128', 'c4'], ['l1', 'c3', 'e08', 'p31', 'i67'], ['i45', 'p25', 'l3', 'e10', 'c4']] 1536774600000\n",
      "[['e04', 'l3', 'c2', 'p05', 'i27'], ['e12', 'p25', 'l3', 'i128', 'c4'], ['l1', 'c3', 'e08', 'p31', 'i67'], ['i45', 'p25', 'l3', 'e10', 'c4'], ['e11', 'c8', 'l2', 'i18', 'p16']] 1536720000000\n",
      "---------------------------------------------------------------------------\n",
      "1536835800000 [['l2']]\n",
      "1536666300000 [['l2'], ['i26']]\n",
      "1536823500000 [['l2'], ['i26'], ['i65']]\n",
      "1536501600000 [['l2'], ['i26'], ['i65'], ['e05']]\n",
      "1536794100000 [['l2'], ['i26'], ['i65'], ['e05'], ['l1']]\n",
      "1536624900000 [['i119', 'p18']]\n",
      "1536592200000 [['i119', 'p18'], ['c6', 'l4']]\n",
      "1536749100000 [['i119', 'p18'], ['c6', 'l4'], ['i101', 'c7']]\n",
      "1536716700000 [['i119', 'p18'], ['c6', 'l4'], ['i101', 'c7'], ['l3', 'e11']]\n",
      "1536435000000 [['i119', 'p18'], ['c6', 'l4'], ['i101', 'c7'], ['l3', 'e11'], ['e01', 'p12']]\n",
      "1536793200000 [['i79', 'l4', 'e11']]\n",
      "1536670500000 [['i79', 'l4', 'e11'], ['l4', 'c5', 'i62']]\n",
      "1536617100000 [['i79', 'l4', 'e11'], ['l4', 'c5', 'i62'], ['p19', 'c1', 'i58']]\n",
      "1536505800000 [['i79', 'l4', 'e11'], ['l4', 'c5', 'i62'], ['p19', 'c1', 'i58'], ['i31', 'e04', 'c7']]\n",
      "1536507900000 [['i79', 'l4', 'e11'], ['l4', 'c5', 'i62'], ['p19', 'c1', 'i58'], ['i31', 'e04', 'c7'], ['c7', 'l3', 'p33']]\n",
      "1536423000000 [['c6', 'l3', 'e04', 'p26']]\n",
      "1536398100000 [['c6', 'l3', 'e04', 'p26'], ['c3', 'p24', 'i61', 'l1']]\n",
      "1536729300000 [['c6', 'l3', 'e04', 'p26'], ['c3', 'p24', 'i61', 'l1'], ['p07', 'l2', 'c8', 'e07']]\n",
      "1536673500000 [['c6', 'l3', 'e04', 'p26'], ['c3', 'p24', 'i61', 'l1'], ['p07', 'l2', 'c8', 'e07'], ['i70', 'p12', 'c1', 'e12']]\n",
      "1536793800000 [['c6', 'l3', 'e04', 'p26'], ['c3', 'p24', 'i61', 'l1'], ['p07', 'l2', 'c8', 'e07'], ['i70', 'p12', 'c1', 'e12'], ['c6', 'e03', 'l1', 'i47']]\n",
      "1536441900000 [['e04', 'l3', 'c2', 'p05', 'i27']]\n",
      "1536853500000 [['e04', 'l3', 'c2', 'p05', 'i27'], ['e12', 'p25', 'l3', 'i128', 'c4']]\n",
      "1536413700000 [['e04', 'l3', 'c2', 'p05', 'i27'], ['e12', 'p25', 'l3', 'i128', 'c4'], ['l1', 'c3', 'e08', 'p31', 'i67']]\n",
      "1536774600000 [['e04', 'l3', 'c2', 'p05', 'i27'], ['e12', 'p25', 'l3', 'i128', 'c4'], ['l1', 'c3', 'e08', 'p31', 'i67'], ['i45', 'p25', 'l3', 'e10', 'c4']]\n",
      "1536720000000 [['e04', 'l3', 'c2', 'p05', 'i27'], ['e12', 'p25', 'l3', 'i128', 'c4'], ['l1', 'c3', 'e08', 'p31', 'i67'], ['i45', 'p25', 'l3', 'e10', 'c4'], ['e11', 'c8', 'l2', 'i18', 'p16']]\n"
     ]
    }
   ],
   "source": [
    "# 使用25种根因随机选择timestamp注入异常\n",
    "path = '../data/KPI_week2.csv'\n",
    "root_cause_dict = {}\n",
    "for root_cause in root_causes:\n",
    "    distribute_anomaly(root_cause, path, root_cause_dict)"
   ]
  },
  {
   "cell_type": "code",
   "execution_count": 21,
   "metadata": {},
   "outputs": [],
   "source": [
    "# 将注入异常的25个时间戳保存成csv文件\n",
    "timestamps = list( root_cause_dict.keys() )\n",
    "df_timestamps = pd.DataFrame(timestamps, index=None)\n",
    "csvFile = open('../data/abnormal_timestamps.csv', 'w')\n",
    "df_timestamps.to_csv('../data/abnormal_timestamps.csv', header=None, index=None)\n",
    "\n",
    "# 将每个时间戳对应的异常根因保存成文件\n",
    "new_path = '../data/timestamp_root_cause/'\n",
    "if not os.path.exists(new_path):\n",
    "    os.makedirs(new_path)\n",
    "for (k, v) in root_cause_dict.items():\n",
    "    path = new_path + str(k) + '.csv'\n",
    "    csvFile = open(path, 'w')\n",
    "    df = pd.DataFrame(v)\n",
    "    df.to_csv(path,header=None, index=None)"
   ]
  },
  {
   "cell_type": "code",
   "execution_count": null,
   "metadata": {},
   "outputs": [],
   "source": []
  }
 ],
 "metadata": {
  "kernelspec": {
   "display_name": "Python 3",
   "language": "python",
   "name": "python3"
  },
  "language_info": {
   "codemirror_mode": {
    "name": "ipython",
    "version": 3
   },
   "file_extension": ".py",
   "mimetype": "text/x-python",
   "name": "python",
   "nbconvert_exporter": "python",
   "pygments_lexer": "ipython3",
   "version": "3.6.5"
  }
 },
 "nbformat": 4,
 "nbformat_minor": 2
}
