{
 "cells": [
  {
   "cell_type": "markdown",
   "metadata": {},
   "source": [
    "### 使用3$\\sigma$法则定上界, 超出界限的点看作异常，转换为前10个点的最值"
   ]
  },
  {
   "cell_type": "code",
   "execution_count": 1,
   "metadata": {},
   "outputs": [],
   "source": [
    "import numpy as np\n",
    "import pandas as pd\n",
    "import matplotlib\n",
    "matplotlib.use('Agg')\n",
    "import matplotlib.pyplot as plt\n",
    "%matplotlib inline\n",
    "import os"
   ]
  },
  {
   "cell_type": "code",
   "execution_count": 2,
   "metadata": {},
   "outputs": [],
   "source": [
    "def source2normal(path, file, result_path):\n",
    "#     读取叶子元素实际值\n",
    "    source_data = pd.read_csv(path + file, usecols=[0])\n",
    "    source_series = [ int(i) for i in source_data.values]\n",
    "    \n",
    "#     存放异常点索引\n",
    "    length = len(source_series)\n",
    "#     abnormal_points = []\n",
    "    smoothed_series = source_series[:]\n",
    "    abnormal_labels = [0]*length\n",
    "    pred = [0]*length\n",
    "    \n",
    "#     计算上界\n",
    "    miu = np.mean(source_series)\n",
    "    sigma = np.std(source_series)\n",
    "    L = 3\n",
    "    UCL = miu + L * sigma\n",
    "#     print(\"miu = %f\" % miu)\n",
    "#     print(\"sigma = %f\" % sigma)\n",
    "#     print(\"Upper Control Line = %f\" % UCL)\n",
    "\n",
    "#     依次替换掉超出上界的异常值\n",
    "    for i in range(len(source_series)):\n",
    "        if source_series[i] > UCL:\n",
    "            abnormal_labels[i] = 1\n",
    "            # 列表切片是左闭右开区间，且倒序的右开区间最小等于0.索引大于10的取前面10个元素的最值，小于10的取前面所有元素的最值。\n",
    "            if i == 0:\n",
    "                smoothed_series[i] = min(np.max(smoothed_series[1:11]), int(UCL))\n",
    "            elif i > 10:\n",
    "                smoothed_series[i] = np.max(smoothed_series[i-1:i-11:-1])\n",
    "            else:\n",
    "                smoothed_series[i] = np.max(smoothed_series[i-1::-1])\n",
    "                \n",
    "    normal_set = {}\n",
    "    normal_set['true'] = source_series\n",
    "    normal_set['pred'] = pred\n",
    "    normal_set['smoothed'] = smoothed_series\n",
    "    normal_set['label'] = abnormal_labels\n",
    "    df = pd.DataFrame(normal_set)\n",
    "    csvFile = open(result_path + file, 'w')\n",
    "    df.to_csv(result_path + file, index=None)\n"
   ]
  },
  {
   "cell_type": "code",
   "execution_count": 3,
   "metadata": {},
   "outputs": [],
   "source": [
    "path = 'leavesFirst2Week/'\n",
    "result_path = 'smoothingLeavesFirst2Week/'\n",
    "if not os.path.exists(result_path):\n",
    "    os.makedirs(result_path)\n",
    "files = os.listdir(path)\n",
    "for file in files:\n",
    "    source2normal(path, file, result_path)"
   ]
  }
 ],
 "metadata": {
  "kernelspec": {
   "display_name": "Python 3",
   "language": "python",
   "name": "python3"
  },
  "language_info": {
   "codemirror_mode": {
    "name": "ipython",
    "version": 3
   },
   "file_extension": ".py",
   "mimetype": "text/x-python",
   "name": "python",
   "nbconvert_exporter": "python",
   "pygments_lexer": "ipython3",
   "version": "3.6.5"
  }
 },
 "nbformat": 4,
 "nbformat_minor": 2
}
