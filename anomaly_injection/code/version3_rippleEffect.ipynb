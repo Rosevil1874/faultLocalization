{
 "cells": [
  {
   "cell_type": "code",
   "execution_count": 1,
   "metadata": {},
   "outputs": [],
   "source": [
    "import numpy as np\n",
    "import pandas as pd\n",
    "import random\n",
    "import os"
   ]
  },
  {
   "cell_type": "code",
   "execution_count": 2,
   "metadata": {},
   "outputs": [],
   "source": [
    "# 随机选取一个时间戳找出其属性值并计算异常\n",
    "def compute_anomaly(path):\n",
    "    o = open(path, 'rb')\n",
    "    df = pd.read_csv(o)\n",
    "    length = len(df)\n",
    "\n",
    "    # 随机选取一个时间戳(为方便计算不选头尾处时间戳)\n",
    "    rand_idx = random.randint(150, length - 150)\n",
    "    timestamp = df.loc[rand_idx][0]\t\t\t\t\t\t# 随机选择的timestamp\n",
    "    temp_df = df[rand_idx - 144 : rand_idx + 144]\t\t# 时间间隔为5分钟，共14天数据，选取一天的数据\n",
    "    \n",
    "    # 计算总KPI异常值\n",
    "    kpi = temp_df['KPI'].as_matrix()\n",
    "    kpi = [float(i) for i in kpi]\n",
    "    mean = np.mean(kpi)\n",
    "    std = np.std(kpi)\n",
    "    total_anomaly = int(mean + 5*std)\t\t\t\t\t# 此timestamp上的总KPI异常\n",
    "    # print(total_anomaly)\n",
    "    return timestamp, total_anomaly\n",
    "path = '../data/KPI_week2.csv'\n",
    "timestamp, total_anomaly = compute_anomaly(path)"
   ]
  },
  {
   "cell_type": "code",
   "execution_count": 3,
   "metadata": {},
   "outputs": [],
   "source": [
    "# 分发异常\n",
    "def distribute_anomaly(timestamp, root_cause,total_anomaly):\n",
    "    print(timestamp, root_cause)\n",
    "    root_cause_anomaly = int(total_anomaly / len(root_cause))    # 总KPI异常分配到每一个根因\n",
    "    \n",
    "    path2 = '../data/origin_week2/' + str(timestamp) + '.csv'\n",
    "    path3 = '../data/anomaly/' + str(timestamp) + '.csv'\n",
    "    locs = []           # 后代叶子元素的索引\n",
    "    o = open(path2, 'rb')\n",
    "    df = pd.read_csv(o, names  = ['i', 'e', 'c', 'p', 'l', 'kpi'])      # 原数据\n",
    "    df_out = pd.DataFrame(columns = ['i', 'e', 'c', 'p', 'l', 'kpi'])   # 用于插入异常条目\n",
    "    \n",
    "    # 对每一个根因\n",
    "    for cause in root_cause:\n",
    "        locs = []                   # 叶子元素索引\n",
    "        root_cause_origin_kpi = 0   # 当前根因原始值\n",
    "        # 遍历原数据，找到当前根因所有后代叶子元素，并计算其和（根因元素原始值）\n",
    "        for idx in df.index:\n",
    "            i, e, c, p, l = df.loc[idx]['i'], df.loc[idx]['e'], df.loc[idx]['c'], df.loc[idx]['p'], df.loc[idx]['l']\n",
    "            leaf_attrs = [i, e, c, p, l]\n",
    "            if set(cause).issubset(set(leaf_attrs)):\n",
    "                locs.append(idx)\n",
    "                root_cause_origin_kpi += df.loc[idx]['kpi']\n",
    "        \n",
    "        # 对当前根因的每个叶子元素，使用涟漪效应分配异常\n",
    "        for idx in locs:\n",
    "            leaf_origin_kpi = df.loc[idx]['kpi']\n",
    "            leaf_anomaly_kpi = leaf_origin_kpi + int( (root_cause_anomaly - root_cause_origin_kpi) * leaf_origin_kpi / root_cause_origin_kpi)\n",
    "            i, e, c, p, l = df.loc[idx]['i'], df.loc[idx]['e'], df.loc[idx]['c'], df.loc[idx]['p'], df.loc[idx]['l']\n",
    "            df_out.loc[0] = {'i':i, 'e':e, 'c':c, 'p':p, 'l':l, 'kpi':df.loc[idx]['kpi'] + leaf_anomaly_kpi}\n",
    "            df = pd.concat([df[:idx], df_out, df[idx+1:]], ignore_index=True)\n",
    "    \n",
    "    csvfile = open(path3, 'w')\n",
    "    df.to_csv(path3, header=None, index=None)"
   ]
  },
  {
   "cell_type": "code",
   "execution_count": 4,
   "metadata": {
    "scrolled": false
   },
   "outputs": [
    {
     "name": "stdout",
     "output_type": "stream",
     "text": [
      "1536771600000 [['l2']]\n",
      "1536602100000 [['i17'], ['i38']]\n",
      "1536567600000 [['e05'], ['e11'], ['e09']]\n",
      "1536796800000 [['p35'], ['p12'], ['p02'], ['p21']]\n",
      "1536670800000 [['e10'], ['e04'], ['e09'], ['e10'], ['e08']]\n",
      "1536693900000 [['e11', 'i14']]\n",
      "1536639600000 [['c1', 'p08'], ['c1', 'p23']]\n",
      "1536574200000 [['p23', 'i12'], ['p15', 'i06'], ['p12', 'i06']]\n",
      "1536893400000 [['c1', 'p17'], ['c5', 'p32'], ['c5', 'p16'], ['c5', 'p30']]\n",
      "1536805800000 [['p19', 'e04'], ['p07', 'e04'], ['p06', 'e04'], ['p29', 'e04'], ['p16', 'e11']]\n",
      "1536813300000 [['c5', 'e01', 'i39']]\n",
      "1536574800000 [['l3', 'i41', 'p11'], ['l3', 'i02', 'p16']]\n",
      "1536693000000 [['p07', 'c3', 'l3'], ['p01', 'c5', 'l2'], ['p10', 'c1', 'l3']]\n",
      "1536648000000 [['e12', 'l3', 'p30'], ['e04', 'l3', 'p01'], ['e04', 'l3', 'p09'], ['e08', 'l3', 'p16']]\n",
      "1536644700000 [['i23', 'l3', 'p03'], ['i30', 'l3', 'p03'], ['i05', 'l3', 'p35'], ['i14', 'l3', 'p15'], ['i13', 'l3', 'p17']]\n",
      "1536722400000 [['i12', 'c5', 'e08', 'l3']]\n",
      "1536881100000 [['p07', 'c1', 'l3', 'i43'], ['p35', 'c1', 'l3', 'i46']]\n",
      "1536748500000 [['p04', 'i17', 'c5', 'e01'], ['p08', 'i38', 'c1', 'e10'], ['p28', 'i38', 'c1', 'e10']]\n",
      "1536847500000 [['e09', 'p21', 'c1', 'l3'], ['e13', 'p23', 'c5', 'l3'], ['e11', 'p05', 'c3', 'l2'], ['e03', 'p01', 'c1', 'l3']]\n",
      "1536539700000 [['c5', 'e09', 'l3', 'i13'], ['c1', 'e01', 'l3', 'i05'], ['c5', 'e07', 'l2', 'i06'], ['c5', 'e01', 'l3', 'i39'], ['c1', 'e09', 'l3', 'i30']]\n",
      "1536546600000 [['i17', 'e11', 'p22', 'c5', 'l3']]\n",
      "1536480000000 [['i43', 'l3', 'e01', 'c1', 'p03'], ['i06', 'l3', 'e10', 'c3', 'p11']]\n",
      "1536628800000 [['l3', 'e08', 'p02', 'i34', 'c5'], ['l3', 'e04', 'p35', 'i32', 'c5'], ['l2', 'e09', 'unknown', 'i38', 'c1']]\n",
      "1536771300000 [['c1', 'l3', 'i05', 'p12', 'e04'], ['c5', 'l3', 'i42', 'p03', 'e05'], ['c5', 'l3', 'i34', 'p24', 'e03'], ['c1', 'l3', 'i30', 'p19', 'e01']]\n",
      "1536546900000 [['e01', 'l3', 'i39', 'c5', 'p19'], ['e09', 'l3', 'i23', 'c5', 'p11'], ['e01', 'l3', 'i31', 'c1', 'p35'], ['e04', 'l1', 'i06', 'c5', 'p33'], ['e10', 'l1', 'i06', 'c5', 'p10']]\n"
     ]
    }
   ],
   "source": [
    "# 一共5层，每层1~5种root cause,共25种\n",
    "def find_root_causes(root_cause_dict):\n",
    "    layers, kinds = 5, 5\n",
    "    root_causes = []\n",
    "#     random_nums = random.sample([x for x in range(5)], 5)\n",
    "    for i in range(layers):\n",
    "        for j in range(kinds):\n",
    "            layer_vals = []\n",
    "            \n",
    "            # 随机选择时间戳找出其属性值并计算异常\n",
    "            timestamp, total_anomaly = compute_anomaly('../data/KPI_week2.csv')\n",
    "            path = '../data/origin_week2/' + str(timestamp) + '.csv'\n",
    "            o = open(path, 'rb')\n",
    "            df = pd.read_csv(o, names  = ['i', 'e', 'c', 'p', 'l', 'kpi'])\n",
    "            length = len(df)\n",
    "            \n",
    "            #  从属性值中随机选择组合成根因\n",
    "            rand_idx = random.sample([x for x in range(length - 1)], 5)\n",
    "            random_nums = random.sample([x for x in range(5)], 5)\n",
    "#             print(rand_idx, random_nums)\n",
    "            for idx in range(kinds):\n",
    "                vals = []\n",
    "#                 rand_idx = random.randint(0, length - 1)\n",
    "#                 random_nums = random.sample([x for x in range(5)], 5)\n",
    "                for k in range(i + 1):\n",
    "#                     print(random_nums[k])\n",
    "                    vals.append(df.loc[rand_idx[idx]][random_nums[k]] )\n",
    "                    k += 1\n",
    "                layer_vals.append(vals)\n",
    "            root_cause = layer_vals[:j+1]           # 深拷贝\n",
    "#             print(root_cause)\n",
    "            root_cause_dict[timestamp] = root_cause\n",
    "            \n",
    "            # 分发异常\n",
    "            distribute_anomaly(timestamp, root_cause, total_anomaly)\n",
    "            \n",
    "root_cause_dict = {}\n",
    "find_root_causes(root_cause_dict)"
   ]
  },
  {
   "cell_type": "code",
   "execution_count": 5,
   "metadata": {},
   "outputs": [
    {
     "name": "stdout",
     "output_type": "stream",
     "text": [
      "1536771600000 [['l2']]\n",
      "1536602100000 [['i17'], ['i38']]\n",
      "1536567600000 [['e05'], ['e11'], ['e09']]\n",
      "1536796800000 [['p35'], ['p12'], ['p02'], ['p21']]\n",
      "1536670800000 [['e10'], ['e04'], ['e09'], ['e10'], ['e08']]\n",
      "1536693900000 [['e11', 'i14']]\n",
      "1536639600000 [['c1', 'p08'], ['c1', 'p23']]\n",
      "1536574200000 [['p23', 'i12'], ['p15', 'i06'], ['p12', 'i06']]\n",
      "1536893400000 [['c1', 'p17'], ['c5', 'p32'], ['c5', 'p16'], ['c5', 'p30']]\n",
      "1536805800000 [['p19', 'e04'], ['p07', 'e04'], ['p06', 'e04'], ['p29', 'e04'], ['p16', 'e11']]\n",
      "1536813300000 [['c5', 'e01', 'i39']]\n",
      "1536574800000 [['l3', 'i41', 'p11'], ['l3', 'i02', 'p16']]\n",
      "1536693000000 [['p07', 'c3', 'l3'], ['p01', 'c5', 'l2'], ['p10', 'c1', 'l3']]\n",
      "1536648000000 [['e12', 'l3', 'p30'], ['e04', 'l3', 'p01'], ['e04', 'l3', 'p09'], ['e08', 'l3', 'p16']]\n",
      "1536644700000 [['i23', 'l3', 'p03'], ['i30', 'l3', 'p03'], ['i05', 'l3', 'p35'], ['i14', 'l3', 'p15'], ['i13', 'l3', 'p17']]\n",
      "1536722400000 [['i12', 'c5', 'e08', 'l3']]\n",
      "1536881100000 [['p07', 'c1', 'l3', 'i43'], ['p35', 'c1', 'l3', 'i46']]\n",
      "1536748500000 [['p04', 'i17', 'c5', 'e01'], ['p08', 'i38', 'c1', 'e10'], ['p28', 'i38', 'c1', 'e10']]\n",
      "1536847500000 [['e09', 'p21', 'c1', 'l3'], ['e13', 'p23', 'c5', 'l3'], ['e11', 'p05', 'c3', 'l2'], ['e03', 'p01', 'c1', 'l3']]\n",
      "1536539700000 [['c5', 'e09', 'l3', 'i13'], ['c1', 'e01', 'l3', 'i05'], ['c5', 'e07', 'l2', 'i06'], ['c5', 'e01', 'l3', 'i39'], ['c1', 'e09', 'l3', 'i30']]\n",
      "1536546600000 [['i17', 'e11', 'p22', 'c5', 'l3']]\n",
      "1536480000000 [['i43', 'l3', 'e01', 'c1', 'p03'], ['i06', 'l3', 'e10', 'c3', 'p11']]\n",
      "1536628800000 [['l3', 'e08', 'p02', 'i34', 'c5'], ['l3', 'e04', 'p35', 'i32', 'c5'], ['l2', 'e09', 'unknown', 'i38', 'c1']]\n",
      "1536771300000 [['c1', 'l3', 'i05', 'p12', 'e04'], ['c5', 'l3', 'i42', 'p03', 'e05'], ['c5', 'l3', 'i34', 'p24', 'e03'], ['c1', 'l3', 'i30', 'p19', 'e01']]\n",
      "1536546900000 [['e01', 'l3', 'i39', 'c5', 'p19'], ['e09', 'l3', 'i23', 'c5', 'p11'], ['e01', 'l3', 'i31', 'c1', 'p35'], ['e04', 'l1', 'i06', 'c5', 'p33'], ['e10', 'l1', 'i06', 'c5', 'p10']]\n"
     ]
    }
   ],
   "source": [
    "for (k, v) in root_cause_dict.items():\n",
    "    print(k, v)\n",
    "root_cause_set = {}\n",
    "root_cause_set['root_cause'] = list(root_cause_dict.values())\n",
    "root_cause_set['timestamp'] = list(root_cause_dict.keys())\n",
    "root_cause_set = pd.DataFrame(root_cause_set, columns = ['timestamp', 'root_cause'])\n",
    "root_cause_set.to_csv('../data/timestamps_root_causes.csv', index = None)"
   ]
  }
 ],
 "metadata": {
  "kernelspec": {
   "display_name": "Python 3",
   "language": "python",
   "name": "python3"
  },
  "language_info": {
   "codemirror_mode": {
    "name": "ipython",
    "version": 3
   },
   "file_extension": ".py",
   "mimetype": "text/x-python",
   "name": "python",
   "nbconvert_exporter": "python",
   "pygments_lexer": "ipython3",
   "version": "3.6.5"
  }
 },
 "nbformat": 4,
 "nbformat_minor": 2
}
